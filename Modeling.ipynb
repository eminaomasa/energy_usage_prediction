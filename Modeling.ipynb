{
  "cells": [
    {
      "cell_type": "markdown",
      "metadata": {
        "id": "view-in-github",
        "colab_type": "text"
      },
      "source": [
        "<a href=\"https://colab.research.google.com/github/eminaomasa/energy_usage_prediction/blob/emiko/Modeling.ipynb\" target=\"_parent\"><img src=\"https://colab.research.google.com/assets/colab-badge.svg\" alt=\"Open In Colab\"/></a>"
      ]
    },
    {
      "cell_type": "markdown",
      "source": [
        "# Modeling \n",
        "This notebook demonstrates our modeling process. \n",
        " \n",
        "We evaluated ten machine learning algorithms. \n",
        "\n",
        "1. Dummy Regressor\n",
        "2. Lasso Regression\n",
        "3. Ridge Regression\n",
        "4. Elastic Net\n",
        "5. Decision Tree\n",
        "6. Random Forest\n",
        "7. Gradient Boosting (GBM)\n",
        "8. Light Gradient Boosting (Light GBM)\n",
        "9. Extreme Gradient Boosting (XGBM)\n",
        "10. Adaboost\n",
        "\n",
        "First, we check each model’s R2 score in a default setting and pick the best performing model by comparing R2 scores. \n",
        "Secondly, for the top-performing model, we do hyperparameter tuning with a grid search. \n",
        "Lastly, we explore feature imporance of our final model. "
      ],
      "metadata": {
        "id": "dEYICnI4nFws"
      }
    },
    {
      "cell_type": "code",
      "execution_count": null,
      "metadata": {
        "id": "2ItIGE7GcE8Z",
        "colab": {
          "base_uri": "https://localhost:8080/"
        },
        "outputId": "dd78402d-9d39-438f-f32c-34852acef3f7"
      },
      "outputs": [
        {
          "output_type": "stream",
          "name": "stdout",
          "text": [
            "Drive already mounted at /content/gdrive; to attempt to forcibly remount, call drive.mount(\"/content/gdrive\", force_remount=True).\n"
          ]
        }
      ],
      "source": [
        "# Connect to google drive\n",
        "from google.colab import drive\n",
        "drive.mount('/content/gdrive')"
      ]
    },
    {
      "cell_type": "code",
      "execution_count": null,
      "metadata": {
        "colab": {
          "base_uri": "https://localhost:8080/"
        },
        "id": "3IILn7AHcUqc",
        "outputId": "0cc03c3d-9c0c-4238-f458-1b673672b026"
      },
      "outputs": [
        {
          "output_type": "execute_result",
          "data": {
            "text/plain": [
              "(74999, 125)"
            ]
          },
          "metadata": {},
          "execution_count": 164
        }
      ],
      "source": [
        "# Load data sets that we cleaned and saved from MyDrive.  \n",
        "\n",
        "import pandas as pd\n",
        "\n",
        "# train data \n",
        "X_scaled = pd.read_csv('gdrive/MyDrive/Data/X_scaled.csv', index_col=0)\n",
        "y = pd.read_csv('gdrive/MyDrive/Data/y.csv', index_col=0)\n",
        "\n",
        "# test data \n",
        "test = pd.read_csv('gdrive/MyDrive/Data/test_scaled.csv', index_col=0)\n",
        "\n",
        "X_scaled.shape"
      ]
    },
    {
      "cell_type": "code",
      "execution_count": null,
      "metadata": {
        "id": "WKChpBH3IWdU"
      },
      "outputs": [],
      "source": [
        "# import necessary library \n",
        "import numpy as np\n",
        "\n",
        "import seaborn as sns\n",
        "import matplotlib.pyplot as plt\n",
        "%matplotlib inline\n",
        "\n",
        "from numpy import arange\n",
        "\n",
        "from sklearn.dummy import DummyRegressor\n",
        "\n",
        "from sklearn.linear_model import Lasso, Ridge, LassoCV, LinearRegression, ElasticNet\n",
        "\n",
        "from sklearn.tree import DecisionTreeRegressor\n",
        "\n",
        "from sklearn.ensemble import RandomForestRegressor, GradientBoostingRegressor, AdaBoostRegressor\n",
        "\n",
        "from xgboost import XGBRegressor\n",
        "\n",
        "import lightgbm\n",
        "\n",
        "from sklearn.model_selection import KFold, RepeatedKFold, GridSearchCV, cross_val_score, cross_validate, train_test_split\n",
        "\n",
        "import warnings \n",
        "#warnings.filterwarnings('ignore')\n"
      ]
    },
    {
      "cell_type": "code",
      "execution_count": null,
      "metadata": {
        "id": "5YKsw1SYIZ9b"
      },
      "outputs": [],
      "source": [
        "# Split train set into train and test for model validation  \n",
        "\n",
        "X_train, X_test, y_train, y_test = train_test_split(\n",
        "    X_scaled, y, test_size=0.2, random_state=50) "
      ]
    },
    {
      "cell_type": "markdown",
      "source": [
        "## Modeling "
      ],
      "metadata": {
        "id": "h3Om82hXmwew"
      }
    },
    {
      "cell_type": "markdown",
      "source": [
        "We compare R2 scores of ten machine learning models in a default setting using cross-validation. \n",
        "\n",
        "To streamline this process, we define a function that fits a model into data and returns a mean R2 score from cross-validation."
      ],
      "metadata": {
        "id": "SHD2tKJ2t61m"
      }
    },
    {
      "cell_type": "code",
      "source": [
        "# A function which return cross-val mean R2 score \n",
        "\n",
        "class ModelWithCV():\n",
        "    '''Structure to save the model and more easily see its crossvalidation'''\n",
        "    \n",
        "    def __init__(self, model, model_name, X, y, cv_now=True):\n",
        "        self.model = model\n",
        "        self.name = model_name\n",
        "        self.X = X\n",
        "        self.y = y\n",
        "        # For CV results\n",
        "        self.cv_results = None\n",
        "        self.cv_mean = None\n",
        "        self.cv_median = None\n",
        "        self.cv_std = None\n",
        "        #\n",
        "        if cv_now:\n",
        "            self.cross_validate()\n",
        "        \n",
        "    def cross_validate(self, X=None, y=None, kfolds=10):\n",
        "        '''\n",
        "        Perform cross-validation and return results.\n",
        "        \n",
        "        Args: \n",
        "          X:\n",
        "            Optional; Training data to perform CV on. Otherwise use X from object\n",
        "          y:\n",
        "            Optional; Training data to perform CV on. Otherwise use y from object\n",
        "          kfolds:\n",
        "            Optional; Number of folds for CV (default is 10)  \n",
        "        '''\n",
        "        \n",
        "        cv_X = X if X else self.X\n",
        "        cv_y = y if y else self.y\n",
        "\n",
        "        self.cv_results = cross_val_score(self.model, cv_X, cv_y, cv=kfolds)\n",
        "        self.cv_mean = np.mean(self.cv_results)\n",
        "        self.cv_std = np.std(self.cv_results)\n",
        "\n",
        "        \n",
        "    def print_cv_summary(self):\n",
        "        cv_summary = (\n",
        "        f'''CV Results for `{self.name}` model:\n",
        "            {self.cv_mean:.5f} ± {self.cv_std:.5f} accuracy\n",
        "        ''')\n",
        "        print(cv_summary)\n",
        "    \n",
        "        \n",
        "    def r2(self):\n",
        "        return round(self.cv_mean, 4)    \n"
      ],
      "metadata": {
        "id": "wJVUPIZEt6Wh"
      },
      "execution_count": null,
      "outputs": []
    },
    {
      "cell_type": "code",
      "source": [
        "# Define a list to store the mean R2 score for each model\n",
        "\n",
        "df_r2 = []"
      ],
      "metadata": {
        "id": "wu1tqJye9xrT"
      },
      "execution_count": null,
      "outputs": []
    },
    {
      "cell_type": "markdown",
      "source": [
        "### 1. Baseline model"
      ],
      "metadata": {
        "id": "sWY8uDL0t5Pg"
      }
    },
    {
      "cell_type": "code",
      "source": [
        "# Baseline model = Dummy regressor \n",
        "model1 = DummyRegressor(strategy = 'mean') \n",
        "\n",
        "# Fit the model and data to cross val function\n",
        "model1_results = ModelWithCV(\n",
        "                        model=model1,\n",
        "                        model_name='dummy',\n",
        "                        X=X_train, \n",
        "                        y=y_train\n",
        ")\n",
        "\n",
        "# report the r2 scores \n",
        "model1_results.print_cv_summary()\n",
        "\n",
        "# store the R2 scores\n",
        "df_r2.append(model1_results.r2())"
      ],
      "metadata": {
        "colab": {
          "base_uri": "https://localhost:8080/"
        },
        "id": "k2sw0y3EwwBK",
        "outputId": "c3711d87-43fc-4fab-e541-b1a808c9d574"
      },
      "execution_count": null,
      "outputs": [
        {
          "output_type": "stream",
          "name": "stdout",
          "text": [
            "CV Results for `dummy` model:\n",
            "            -0.00013 ± 0.00013 accuracy\n",
            "        \n"
          ]
        }
      ]
    },
    {
      "cell_type": "markdown",
      "source": [
        "### 2. Lasso Regression"
      ],
      "metadata": {
        "id": "nUQYu7AR0_T5"
      }
    },
    {
      "cell_type": "code",
      "source": [
        "# 2. Lasso Regression\n",
        "model2 = Lasso(random_state = 42)\n",
        "\n",
        "# Fit the model and data to cross val function\n",
        "model2_results = ModelWithCV(\n",
        "                        model=model2,\n",
        "                        model_name='lasso',\n",
        "                        X=X_train, \n",
        "                        y=y_train\n",
        ")\n",
        "\n",
        "\n",
        "# report the r2 scores \n",
        "model2_results.print_cv_summary()\n",
        "\n",
        "# store the R2 scores\n",
        "df_r2.append(model2_results.r2())"
      ],
      "metadata": {
        "colab": {
          "base_uri": "https://localhost:8080/"
        },
        "id": "GLOCiiBR1H5Y",
        "outputId": "aebc487a-8a2e-4a3e-8a3b-1b5a9f9eefb1"
      },
      "execution_count": null,
      "outputs": [
        {
          "output_type": "stream",
          "name": "stdout",
          "text": [
            "CV Results for `lasso` model:\n",
            "            0.42386 ± 0.01787 accuracy\n",
            "        \n"
          ]
        }
      ]
    },
    {
      "cell_type": "markdown",
      "source": [
        "### 3. Ridge Regression"
      ],
      "metadata": {
        "id": "jF4QNRKy3CSV"
      }
    },
    {
      "cell_type": "code",
      "source": [
        "# 3. Ridge Regression\n",
        "model3 = Ridge(random_state = 42)\n",
        "\n",
        "# Fit the model and data to cross val function\n",
        "model3_results = ModelWithCV(\n",
        "                        model=model3,\n",
        "                        model_name='ridge',\n",
        "                        X=X_train, \n",
        "                        y=y_train\n",
        ")\n",
        "\n",
        "# report the r2 scores \n",
        "model3_results.print_cv_summary()\n",
        "\n",
        "# store the R2 scores\n",
        "df_r2.append(model3_results.r2())"
      ],
      "metadata": {
        "colab": {
          "base_uri": "https://localhost:8080/"
        },
        "id": "dlvnm9qb3Hqf",
        "outputId": "34bf8167-a246-45ac-ec15-f54d55c26944"
      },
      "execution_count": null,
      "outputs": [
        {
          "output_type": "stream",
          "name": "stdout",
          "text": [
            "CV Results for `ridge` model:\n",
            "            0.45081 ± 0.01882 accuracy\n",
            "        \n"
          ]
        }
      ]
    },
    {
      "cell_type": "markdown",
      "source": [
        "### 4. Elastic Net"
      ],
      "metadata": {
        "id": "G7ilGRIh3uoW"
      }
    },
    {
      "cell_type": "code",
      "source": [
        "# 4. Elastic Net \n",
        "model4 = ElasticNet(random_state = 42)\n",
        "\n",
        "# Fit the model and data to cross val function\n",
        "model4_results = ModelWithCV(\n",
        "                        model=model4,\n",
        "                        model_name='elasticnet',\n",
        "                        X=X_train, \n",
        "                        y=y_train\n",
        ")\n",
        "\n",
        "# report the r2 scores \n",
        "model4_results.print_cv_summary()\n",
        "\n",
        "# store the R2 scores\n",
        "df_r2.append(model4_results.r2())"
      ],
      "metadata": {
        "colab": {
          "base_uri": "https://localhost:8080/"
        },
        "id": "InMzOHTt3zB2",
        "outputId": "1c037489-07f6-40cd-8caa-ad02e2466140"
      },
      "execution_count": null,
      "outputs": [
        {
          "output_type": "stream",
          "name": "stdout",
          "text": [
            "CV Results for `elasticnet` model:\n",
            "            0.38734 ± 0.01464 accuracy\n",
            "        \n"
          ]
        }
      ]
    },
    {
      "cell_type": "markdown",
      "source": [
        "### 5. Decision Tree"
      ],
      "metadata": {
        "id": "Qlors86a4BlN"
      }
    },
    {
      "cell_type": "code",
      "execution_count": null,
      "metadata": {
        "id": "dWzepdb4s7et",
        "colab": {
          "base_uri": "https://localhost:8080/"
        },
        "outputId": "cd6a236b-e0fb-43d9-a830-537e6b4b989c"
      },
      "outputs": [
        {
          "output_type": "stream",
          "name": "stdout",
          "text": [
            "CV Results for `decitiontree` model:\n",
            "            0.21828 ± 0.04318 accuracy\n",
            "        \n"
          ]
        }
      ],
      "source": [
        "# 5. Decision Tree\n",
        "model5 = DecisionTreeRegressor(random_state = 42)\n",
        "\n",
        "# Fit the model and data to cross val function\n",
        "model5_results = ModelWithCV(\n",
        "                        model=model5,\n",
        "                        model_name='decitiontree',\n",
        "                        X=X_train, \n",
        "                        y=y_train\n",
        ")\n",
        "\n",
        "# report the r2 scores \n",
        "model5_results.print_cv_summary()\n",
        "\n",
        "# store the R2 scores\n",
        "df_r2.append(model5_results.r2())"
      ]
    },
    {
      "cell_type": "markdown",
      "source": [
        "### 6.Random Forest\n",
        "\n",
        "For Random Forest, we set max_depth = 2, because otherwise, the computation takes a very long time. "
      ],
      "metadata": {
        "id": "XbJ62bOK4d6j"
      }
    },
    {
      "cell_type": "code",
      "source": [
        "# 6. Random Forest\n",
        "model6 = RandomForestRegressor(max_depth = 2, random_state = 42)\n",
        "\n",
        "# Fit the model and data to cross val function\n",
        "\n",
        "model6_results = ModelWithCV(\n",
        "                        model=model6,\n",
        "                        model_name='randomforest',\n",
        "                        X=X_train, \n",
        "                        y=y_train\n",
        ")\n",
        "\n",
        "\n",
        "# report the r2 scores \n",
        "model6_results.print_cv_summary()\n",
        "\n",
        "# store the R2 scores\n",
        "df_r2.append(model6_results.r2())"
      ],
      "metadata": {
        "colab": {
          "base_uri": "https://localhost:8080/"
        },
        "id": "rU-0_Fad4hYz",
        "outputId": "8c931a24-9457-4195-cef3-033855312394"
      },
      "execution_count": null,
      "outputs": [
        {
          "output_type": "stream",
          "name": "stdout",
          "text": [
            "CV Results for `randomforest` model:\n",
            "            0.20334 ± 0.01107 accuracy\n",
            "        \n"
          ]
        }
      ]
    },
    {
      "cell_type": "markdown",
      "source": [
        "### 7. Gradient Boosting (GBM)"
      ],
      "metadata": {
        "id": "oHvhpL0-5QD8"
      }
    },
    {
      "cell_type": "code",
      "source": [
        "# 7. Gradient Boosting (GBM)\n",
        "model7 = GradientBoostingRegressor(random_state = 42)\n",
        "\n",
        "# Fit the model and data to cross val function\n",
        "model7_results = ModelWithCV(\n",
        "                        model=model7,\n",
        "                        model_name='GBM',\n",
        "                        X=X_train, \n",
        "                        y=y_train\n",
        ")\n",
        "\n",
        "# report the r2 scores \n",
        "model7_results.print_cv_summary()\n",
        "\n",
        "# store the R2 scores\n",
        "df_r2.append(model7_results.r2())"
      ],
      "metadata": {
        "colab": {
          "base_uri": "https://localhost:8080/"
        },
        "id": "Ek03REZw4inF",
        "outputId": "9c9f0fba-d041-463a-9b77-d640a9f841d3"
      },
      "execution_count": null,
      "outputs": [
        {
          "output_type": "stream",
          "name": "stdout",
          "text": [
            "CV Results for `GBM` model:\n",
            "            0.47595 ± 0.01651 accuracy\n",
            "        \n"
          ]
        }
      ]
    },
    {
      "cell_type": "markdown",
      "source": [
        "### 8. Light Gradient Boosting (Light GBM)"
      ],
      "metadata": {
        "id": "1wy9eO1I5Snp"
      }
    },
    {
      "cell_type": "code",
      "source": [
        "# 8. Light Gradient Boosting (Light GBM)\n",
        "model8 = lightgbm.LGBMRegressor(random_state = 42)\n",
        "\n",
        "# Fit the model and data to cross val function\n",
        "model8_results = ModelWithCV(\n",
        "                        model=model8,\n",
        "                        model_name='lightGBM',\n",
        "                        X=X_train, \n",
        "                        y=y_train\n",
        ")\n",
        "\n",
        "\n",
        "# report the r2 scores \n",
        "model8_results.print_cv_summary()\n",
        "\n",
        "# store the R2 scores\n",
        "df_r2.append(model8_results.r2())"
      ],
      "metadata": {
        "colab": {
          "base_uri": "https://localhost:8080/"
        },
        "id": "oEFvPx2M61Zi",
        "outputId": "97f5bbfb-2079-42e1-da45-c037cdfe8500"
      },
      "execution_count": null,
      "outputs": [
        {
          "output_type": "stream",
          "name": "stdout",
          "text": [
            "CV Results for `lightGBM` model:\n",
            "            0.53652 ± 0.01381 accuracy\n",
            "        \n"
          ]
        }
      ]
    },
    {
      "cell_type": "markdown",
      "source": [
        "### 9. Extreme Gradient Boosting (XGBM)"
      ],
      "metadata": {
        "id": "zf72VaDH5SqO"
      }
    },
    {
      "cell_type": "code",
      "source": [
        "# 9. Extreme Gradient Boosting (XGBM)\n",
        "model9 = XGBRegressor(random_state = 42)\n",
        "\n",
        "# Fit the model and data to cross val function\n",
        "model9_results = ModelWithCV(\n",
        "                        model=model9,\n",
        "                        model_name='XGBM',\n",
        "                        X=X_train, \n",
        "                        y=y_train\n",
        ")\n",
        "\n",
        "\n",
        "# report the r2 scores \n",
        "model9_results.print_cv_summary()\n",
        "\n",
        "# store the R2 scores\n",
        "df_r2.append(model9_results.r2())"
      ],
      "metadata": {
        "colab": {
          "base_uri": "https://localhost:8080/"
        },
        "id": "Ho75aYeonrJd",
        "outputId": "b71c351d-1071-418f-95c8-7f62167cf16d"
      },
      "execution_count": null,
      "outputs": [
        {
          "output_type": "stream",
          "name": "stdout",
          "text": [
            "[21:21:37] WARNING: /workspace/src/objective/regression_obj.cu:152: reg:linear is now deprecated in favor of reg:squarederror.\n",
            "[21:22:00] WARNING: /workspace/src/objective/regression_obj.cu:152: reg:linear is now deprecated in favor of reg:squarederror.\n",
            "[21:22:15] WARNING: /workspace/src/objective/regression_obj.cu:152: reg:linear is now deprecated in favor of reg:squarederror.\n",
            "[21:22:29] WARNING: /workspace/src/objective/regression_obj.cu:152: reg:linear is now deprecated in favor of reg:squarederror.\n",
            "[21:22:44] WARNING: /workspace/src/objective/regression_obj.cu:152: reg:linear is now deprecated in favor of reg:squarederror.\n",
            "[21:23:00] WARNING: /workspace/src/objective/regression_obj.cu:152: reg:linear is now deprecated in favor of reg:squarederror.\n",
            "[21:23:15] WARNING: /workspace/src/objective/regression_obj.cu:152: reg:linear is now deprecated in favor of reg:squarederror.\n",
            "[21:23:30] WARNING: /workspace/src/objective/regression_obj.cu:152: reg:linear is now deprecated in favor of reg:squarederror.\n",
            "[21:23:45] WARNING: /workspace/src/objective/regression_obj.cu:152: reg:linear is now deprecated in favor of reg:squarederror.\n",
            "[21:23:59] WARNING: /workspace/src/objective/regression_obj.cu:152: reg:linear is now deprecated in favor of reg:squarederror.\n",
            "CV Results for `XGBM` model:\n",
            "            0.47551 ± 0.01652 accuracy\n",
            "        \n"
          ]
        }
      ]
    },
    {
      "cell_type": "markdown",
      "source": [
        "### 10. Adaboost"
      ],
      "metadata": {
        "id": "tv7L4kq176Qm"
      }
    },
    {
      "cell_type": "code",
      "source": [
        "# 10. Adaboost\n",
        "model10 = AdaBoostRegressor(random_state = 42)\n",
        "\n",
        "# Fit the model and data to cross val function\n",
        "model10_results = ModelWithCV(\n",
        "                        model=model10,\n",
        "                        model_name='adaboost',\n",
        "                        X=X_train, \n",
        "                        y=y_train\n",
        ")\n",
        "\n",
        "\n",
        "# report the R2 scores \n",
        "model10_results.print_cv_summary()\n",
        "\n",
        "# store the R2 scores\n",
        "df_r2.append(model10_results.r2())"
      ],
      "metadata": {
        "colab": {
          "base_uri": "https://localhost:8080/"
        },
        "id": "Qi2afbTV7-AR",
        "outputId": "b01c4717-3780-417c-c101-2a9e41db194f"
      },
      "execution_count": null,
      "outputs": [
        {
          "output_type": "stream",
          "name": "stdout",
          "text": [
            "CV Results for `adaboost` model:\n",
            "            0.09338 ± 0.11512 accuracy\n",
            "        \n"
          ]
        }
      ]
    },
    {
      "cell_type": "markdown",
      "source": [
        "## Model Selection"
      ],
      "metadata": {
        "id": "btzdhefGDwrv"
      }
    },
    {
      "cell_type": "markdown",
      "source": [
        "We compare R2 scores for 10 models and select the best performing model. "
      ],
      "metadata": {
        "id": "vZlAxjkZ8n08"
      }
    },
    {
      "cell_type": "code",
      "source": [
        "# Define a data frame that includes R2 score and model numbers. \n",
        "result = pd.DataFrame()\n",
        "df_model = ['model_' + str(i) for i in range(1,11)] \n",
        "# Assigne model name and R2 scores \n",
        "result['model'] = df_model\n",
        "result['r2'] = df_r2 \n",
        "\n",
        "result"
      ],
      "metadata": {
        "colab": {
          "base_uri": "https://localhost:8080/",
          "height": 363
        },
        "id": "QLKT4Nu69Jm_",
        "outputId": "1f64bc78-7aea-4ff0-fc56-11cf13d5e3df"
      },
      "execution_count": null,
      "outputs": [
        {
          "output_type": "execute_result",
          "data": {
            "text/html": [
              "\n",
              "  <div id=\"df-00c772d4-f9b9-41e7-ba0d-f21cf5d5437f\">\n",
              "    <div class=\"colab-df-container\">\n",
              "      <div>\n",
              "<style scoped>\n",
              "    .dataframe tbody tr th:only-of-type {\n",
              "        vertical-align: middle;\n",
              "    }\n",
              "\n",
              "    .dataframe tbody tr th {\n",
              "        vertical-align: top;\n",
              "    }\n",
              "\n",
              "    .dataframe thead th {\n",
              "        text-align: right;\n",
              "    }\n",
              "</style>\n",
              "<table border=\"1\" class=\"dataframe\">\n",
              "  <thead>\n",
              "    <tr style=\"text-align: right;\">\n",
              "      <th></th>\n",
              "      <th>model</th>\n",
              "      <th>r2</th>\n",
              "    </tr>\n",
              "  </thead>\n",
              "  <tbody>\n",
              "    <tr>\n",
              "      <th>0</th>\n",
              "      <td>model_1</td>\n",
              "      <td>-0.0001</td>\n",
              "    </tr>\n",
              "    <tr>\n",
              "      <th>1</th>\n",
              "      <td>model_2</td>\n",
              "      <td>0.4239</td>\n",
              "    </tr>\n",
              "    <tr>\n",
              "      <th>2</th>\n",
              "      <td>model_3</td>\n",
              "      <td>0.4508</td>\n",
              "    </tr>\n",
              "    <tr>\n",
              "      <th>3</th>\n",
              "      <td>model_4</td>\n",
              "      <td>0.3873</td>\n",
              "    </tr>\n",
              "    <tr>\n",
              "      <th>4</th>\n",
              "      <td>model_5</td>\n",
              "      <td>0.2183</td>\n",
              "    </tr>\n",
              "    <tr>\n",
              "      <th>5</th>\n",
              "      <td>model_6</td>\n",
              "      <td>0.2033</td>\n",
              "    </tr>\n",
              "    <tr>\n",
              "      <th>6</th>\n",
              "      <td>model_7</td>\n",
              "      <td>0.4760</td>\n",
              "    </tr>\n",
              "    <tr>\n",
              "      <th>7</th>\n",
              "      <td>model_8</td>\n",
              "      <td>0.5365</td>\n",
              "    </tr>\n",
              "    <tr>\n",
              "      <th>8</th>\n",
              "      <td>model_9</td>\n",
              "      <td>0.4755</td>\n",
              "    </tr>\n",
              "    <tr>\n",
              "      <th>9</th>\n",
              "      <td>model_10</td>\n",
              "      <td>0.0934</td>\n",
              "    </tr>\n",
              "  </tbody>\n",
              "</table>\n",
              "</div>\n",
              "      <button class=\"colab-df-convert\" onclick=\"convertToInteractive('df-00c772d4-f9b9-41e7-ba0d-f21cf5d5437f')\"\n",
              "              title=\"Convert this dataframe to an interactive table.\"\n",
              "              style=\"display:none;\">\n",
              "        \n",
              "  <svg xmlns=\"http://www.w3.org/2000/svg\" height=\"24px\"viewBox=\"0 0 24 24\"\n",
              "       width=\"24px\">\n",
              "    <path d=\"M0 0h24v24H0V0z\" fill=\"none\"/>\n",
              "    <path d=\"M18.56 5.44l.94 2.06.94-2.06 2.06-.94-2.06-.94-.94-2.06-.94 2.06-2.06.94zm-11 1L8.5 8.5l.94-2.06 2.06-.94-2.06-.94L8.5 2.5l-.94 2.06-2.06.94zm10 10l.94 2.06.94-2.06 2.06-.94-2.06-.94-.94-2.06-.94 2.06-2.06.94z\"/><path d=\"M17.41 7.96l-1.37-1.37c-.4-.4-.92-.59-1.43-.59-.52 0-1.04.2-1.43.59L10.3 9.45l-7.72 7.72c-.78.78-.78 2.05 0 2.83L4 21.41c.39.39.9.59 1.41.59.51 0 1.02-.2 1.41-.59l7.78-7.78 2.81-2.81c.8-.78.8-2.07 0-2.86zM5.41 20L4 18.59l7.72-7.72 1.47 1.35L5.41 20z\"/>\n",
              "  </svg>\n",
              "      </button>\n",
              "      \n",
              "  <style>\n",
              "    .colab-df-container {\n",
              "      display:flex;\n",
              "      flex-wrap:wrap;\n",
              "      gap: 12px;\n",
              "    }\n",
              "\n",
              "    .colab-df-convert {\n",
              "      background-color: #E8F0FE;\n",
              "      border: none;\n",
              "      border-radius: 50%;\n",
              "      cursor: pointer;\n",
              "      display: none;\n",
              "      fill: #1967D2;\n",
              "      height: 32px;\n",
              "      padding: 0 0 0 0;\n",
              "      width: 32px;\n",
              "    }\n",
              "\n",
              "    .colab-df-convert:hover {\n",
              "      background-color: #E2EBFA;\n",
              "      box-shadow: 0px 1px 2px rgba(60, 64, 67, 0.3), 0px 1px 3px 1px rgba(60, 64, 67, 0.15);\n",
              "      fill: #174EA6;\n",
              "    }\n",
              "\n",
              "    [theme=dark] .colab-df-convert {\n",
              "      background-color: #3B4455;\n",
              "      fill: #D2E3FC;\n",
              "    }\n",
              "\n",
              "    [theme=dark] .colab-df-convert:hover {\n",
              "      background-color: #434B5C;\n",
              "      box-shadow: 0px 1px 3px 1px rgba(0, 0, 0, 0.15);\n",
              "      filter: drop-shadow(0px 1px 2px rgba(0, 0, 0, 0.3));\n",
              "      fill: #FFFFFF;\n",
              "    }\n",
              "  </style>\n",
              "\n",
              "      <script>\n",
              "        const buttonEl =\n",
              "          document.querySelector('#df-00c772d4-f9b9-41e7-ba0d-f21cf5d5437f button.colab-df-convert');\n",
              "        buttonEl.style.display =\n",
              "          google.colab.kernel.accessAllowed ? 'block' : 'none';\n",
              "\n",
              "        async function convertToInteractive(key) {\n",
              "          const element = document.querySelector('#df-00c772d4-f9b9-41e7-ba0d-f21cf5d5437f');\n",
              "          const dataTable =\n",
              "            await google.colab.kernel.invokeFunction('convertToInteractive',\n",
              "                                                     [key], {});\n",
              "          if (!dataTable) return;\n",
              "\n",
              "          const docLinkHtml = 'Like what you see? Visit the ' +\n",
              "            '<a target=\"_blank\" href=https://colab.research.google.com/notebooks/data_table.ipynb>data table notebook</a>'\n",
              "            + ' to learn more about interactive tables.';\n",
              "          element.innerHTML = '';\n",
              "          dataTable['output_type'] = 'display_data';\n",
              "          await google.colab.output.renderOutput(dataTable, element);\n",
              "          const docLink = document.createElement('div');\n",
              "          docLink.innerHTML = docLinkHtml;\n",
              "          element.appendChild(docLink);\n",
              "        }\n",
              "      </script>\n",
              "    </div>\n",
              "  </div>\n",
              "  "
            ],
            "text/plain": [
              "      model      r2\n",
              "0   model_1 -0.0001\n",
              "1   model_2  0.4239\n",
              "2   model_3  0.4508\n",
              "3   model_4  0.3873\n",
              "4   model_5  0.2183\n",
              "5   model_6  0.2033\n",
              "6   model_7  0.4760\n",
              "7   model_8  0.5365\n",
              "8   model_9  0.4755\n",
              "9  model_10  0.0934"
            ]
          },
          "metadata": {},
          "execution_count": 186
        }
      ]
    },
    {
      "cell_type": "markdown",
      "source": [
        "Model_8 (Light GBM) reports the highest R2 score. \n",
        "\n",
        "Next figure plots the R2 scores for ten models. "
      ],
      "metadata": {
        "id": "fsXjyf64wXtB"
      }
    },
    {
      "cell_type": "code",
      "source": [
        "# Bar plot of R2 scores for 10 models \n",
        "fig = plt.figure(figsize =(10, 5))\n",
        " \n",
        "# Bar Plot\n",
        "plt.bar(result.model, result.r2)\n",
        "plt.xlabel('Models')\n",
        "plt.ylabel('R2 score');"
      ],
      "metadata": {
        "colab": {
          "base_uri": "https://localhost:8080/",
          "height": 335
        },
        "id": "RgflKgxe9Jwf",
        "outputId": "f88f0445-b6a4-4b18-89fe-9bb808fb2219"
      },
      "execution_count": null,
      "outputs": [
        {
          "output_type": "display_data",
          "data": {
            "image/png": "[encoded data removed]",
            "text/plain": [
              "<Figure size 720x360 with 1 Axes>"
            ]
          },
          "metadata": {
            "needs_background": "light"
          }
        }
      ]
    },
    {
      "cell_type": "markdown",
      "source": [
        "Among ten models, Model 8 (Light GBM) outperforms in terms of R2 scores. So we pick the Light GBM as our candidate for the final model.\n",
        "\n",
        "For a second step, we did hyperparameter tuning for the Light GBM model using a grid search. But in this notebook, we skip hyperparameter tuning because the grid search takes over 4 hours to complete.\n",
        "\n",
        "Instead, we provide the code for our grid search at the end of this notebook. \n"
      ],
      "metadata": {
        "id": "SVvADH-FDxwf"
      }
    },
    {
      "cell_type": "markdown",
      "source": [
        "## Final Model (Light GBM)\n",
        "\n",
        "In this section, we evaluate our final model tuned in the best parameters we got from the grid search.   "
      ],
      "metadata": {
        "id": "Hr2K1nV4nsG-"
      }
    },
    {
      "cell_type": "code",
      "source": [
        "# Final Model: Light GBM with tuned parametor \n",
        "\n",
        "# set the parameters we got from the grid search.\n",
        "bestmodel = lightgbm.LGBMRegressor(learning_rate=0.1, max_depth=-1, \n",
        "                                    n_estimators= 1000, num_leaves = 100, reg_alpha = 0.05)\n",
        "\n",
        "\n",
        "# Fit the model and data to cross val function\n",
        "bestmodel_results = ModelWithCV(\n",
        "                        model=bestmodel,\n",
        "                        model_name='lightGBM tuned',\n",
        "                        X=X_train, \n",
        "                        y=y_train\n",
        ")\n",
        "\n",
        "\n",
        "# report the r2 scores \n",
        "bestmodel_results.print_cv_summary()\n",
        "\n",
        "# store the R2 scores\n",
        "df_r2.append(bestmodel_results.r2())\n",
        "\n",
        "\n"
      ],
      "metadata": {
        "colab": {
          "base_uri": "https://localhost:8080/"
        },
        "id": "5ZZ-ovJOY5Sj",
        "outputId": "81f0194b-b0fd-47dc-b24d-c866a73f64c0"
      },
      "execution_count": null,
      "outputs": [
        {
          "output_type": "stream",
          "name": "stdout",
          "text": [
            "CV Results for `lightGBM tuned` model:\n",
            "            0.59954 ± 0.01337 accuracy\n",
            "        \n"
          ]
        }
      ]
    },
    {
      "cell_type": "markdown",
      "source": [
        "Add our final model's R2 score in the earlier bar figure."
      ],
      "metadata": {
        "id": "Jj7q0R1RI5uG"
      }
    },
    {
      "cell_type": "code",
      "source": [
        "# Add best model R2 score in the earlier figrue \n",
        "\n",
        "# define a result data frame \n",
        "result2 = pd.DataFrame()\n",
        "df_model = ['model_' + str(i) for i in range(1,11)] \n",
        "df_model2 = df_model + ['Final_Model']\n",
        "result2['model'] = df_model2\n",
        "result2['r2'] = df_r2 \n",
        "\n",
        "\n",
        "# Plot R2 scores for 10 models + final model  \n",
        "fig = plt.figure(figsize =(15, 5))\n",
        " \n",
        "# Horizontal Bar Plot\n",
        "plt.bar(result2.model, result2.r2 )\n",
        "plt.xlabel('Models')\n",
        "plt.ylabel('R2 score');"
      ],
      "metadata": {
        "colab": {
          "base_uri": "https://localhost:8080/",
          "height": 335
        },
        "id": "QUSSiItpIRLe",
        "outputId": "12c366dd-0e9c-4707-d50b-52e0e97a103e"
      },
      "execution_count": null,
      "outputs": [
        {
          "output_type": "display_data",
          "data": {
            "image/png": "[encoded data removed]",
            "text/plain": [
              "<Figure size 1080x360 with 1 Axes>"
            ]
          },
          "metadata": {
            "needs_background": "light"
          }
        }
      ]
    },
    {
      "cell_type": "code",
      "source": [
        "bestmodel_results.r2()"
      ],
      "metadata": {
        "colab": {
          "base_uri": "https://localhost:8080/"
        },
        "id": "-dQlGuZD0Y_T",
        "outputId": "afe183f1-3aa5-4011-a0e8-e8b9a572c545"
      },
      "execution_count": null,
      "outputs": [
        {
          "output_type": "execute_result",
          "data": {
            "text/plain": [
              "0.5995"
            ]
          },
          "metadata": {},
          "execution_count": 191
        }
      ]
    },
    {
      "cell_type": "markdown",
      "source": [
        "After hyperparameter tuning, R2 score for Light GBM model has increased from 0.5365 to 0.5995. \n",
        "\n",
        "Next, We fit the test set and check R2 score.\n"
      ],
      "metadata": {
        "id": "2dxfQiYQzD2d"
      }
    },
    {
      "cell_type": "code",
      "source": [
        "# Fit into train set \n",
        "bestmodel.fit(X_train, y_train)\n",
        "\n",
        "# report R2 score with test set \n",
        "r2_test = bestmodel.score(X_test,y_test)\n",
        "\n",
        "print('Final Model R2 socre with test set: ', r2_test )"
      ],
      "metadata": {
        "colab": {
          "base_uri": "https://localhost:8080/"
        },
        "id": "pQ0Ba4ORIsQE",
        "outputId": "9d732e36-ddae-43f3-ed9b-8e723d647a1d"
      },
      "execution_count": null,
      "outputs": [
        {
          "output_type": "stream",
          "name": "stdout",
          "text": [
            "Final Model R2 socre with test set:  0.6072831231917277\n"
          ]
        }
      ]
    },
    {
      "cell_type": "markdown",
      "source": [
        "R2 score with the test set is as high as the one with the train set. So, the risk of overfitting is very low. "
      ],
      "metadata": {
        "id": "SMn3d6Csz4Fg"
      }
    },
    {
      "cell_type": "markdown",
      "source": [
        "### Make prediction for Kaggle submission.  \n",
        "Finally, we make prediction using the test set provided by Kaggle, and save it in a submission file.  "
      ],
      "metadata": {
        "id": "oN-2TXvnLxxZ"
      }
    },
    {
      "cell_type": "code",
      "source": [
        "# create the solution dataframe with two columns: 'id' and 'site_eui' for submission to datathon\n",
        "solution = bestmodel.predict(test)\n",
        "solution = pd.DataFrame(solution, columns = ['site_eui'], index = test.index)\n",
        "solution['id'] = solution.index\n",
        "solution_columns = ['id','site_eui']\n",
        "solution = solution[solution_columns]\n",
        "solution = solution.reset_index(drop=True)\n",
        "\n",
        "# save in csv format \n",
        "solution.to_csv('gdrive/MyDrive/Data/solution.csv', index = False)\n",
        "\n",
        "solution.head()"
      ],
      "metadata": {
        "colab": {
          "base_uri": "https://localhost:8080/",
          "height": 206
        },
        "id": "INuac18_HNUc",
        "outputId": "cf6e9f4d-0dd1-4ed8-ae07-2d0934449c68"
      },
      "execution_count": null,
      "outputs": [
        {
          "output_type": "execute_result",
          "data": {
            "text/html": [
              "\n",
              "  <div id=\"df-f19cab94-48ca-4ac8-a64c-321e5ef41b12\">\n",
              "    <div class=\"colab-df-container\">\n",
              "      <div>\n",
              "<style scoped>\n",
              "    .dataframe tbody tr th:only-of-type {\n",
              "        vertical-align: middle;\n",
              "    }\n",
              "\n",
              "    .dataframe tbody tr th {\n",
              "        vertical-align: top;\n",
              "    }\n",
              "\n",
              "    .dataframe thead th {\n",
              "        text-align: right;\n",
              "    }\n",
              "</style>\n",
              "<table border=\"1\" class=\"dataframe\">\n",
              "  <thead>\n",
              "    <tr style=\"text-align: right;\">\n",
              "      <th></th>\n",
              "      <th>id</th>\n",
              "      <th>site_eui</th>\n",
              "    </tr>\n",
              "  </thead>\n",
              "  <tbody>\n",
              "    <tr>\n",
              "      <th>0</th>\n",
              "      <td>75757</td>\n",
              "      <td>239.203506</td>\n",
              "    </tr>\n",
              "    <tr>\n",
              "      <th>1</th>\n",
              "      <td>75758</td>\n",
              "      <td>199.770882</td>\n",
              "    </tr>\n",
              "    <tr>\n",
              "      <th>2</th>\n",
              "      <td>75759</td>\n",
              "      <td>171.403348</td>\n",
              "    </tr>\n",
              "    <tr>\n",
              "      <th>3</th>\n",
              "      <td>75760</td>\n",
              "      <td>267.006421</td>\n",
              "    </tr>\n",
              "    <tr>\n",
              "      <th>4</th>\n",
              "      <td>75761</td>\n",
              "      <td>265.777978</td>\n",
              "    </tr>\n",
              "  </tbody>\n",
              "</table>\n",
              "</div>\n",
              "      <button class=\"colab-df-convert\" onclick=\"convertToInteractive('df-f19cab94-48ca-4ac8-a64c-321e5ef41b12')\"\n",
              "              title=\"Convert this dataframe to an interactive table.\"\n",
              "              style=\"display:none;\">\n",
              "        \n",
              "  <svg xmlns=\"http://www.w3.org/2000/svg\" height=\"24px\"viewBox=\"0 0 24 24\"\n",
              "       width=\"24px\">\n",
              "    <path d=\"M0 0h24v24H0V0z\" fill=\"none\"/>\n",
              "    <path d=\"M18.56 5.44l.94 2.06.94-2.06 2.06-.94-2.06-.94-.94-2.06-.94 2.06-2.06.94zm-11 1L8.5 8.5l.94-2.06 2.06-.94-2.06-.94L8.5 2.5l-.94 2.06-2.06.94zm10 10l.94 2.06.94-2.06 2.06-.94-2.06-.94-.94-2.06-.94 2.06-2.06.94z\"/><path d=\"M17.41 7.96l-1.37-1.37c-.4-.4-.92-.59-1.43-.59-.52 0-1.04.2-1.43.59L10.3 9.45l-7.72 7.72c-.78.78-.78 2.05 0 2.83L4 21.41c.39.39.9.59 1.41.59.51 0 1.02-.2 1.41-.59l7.78-7.78 2.81-2.81c.8-.78.8-2.07 0-2.86zM5.41 20L4 18.59l7.72-7.72 1.47 1.35L5.41 20z\"/>\n",
              "  </svg>\n",
              "      </button>\n",
              "      \n",
              "  <style>\n",
              "    .colab-df-container {\n",
              "      display:flex;\n",
              "      flex-wrap:wrap;\n",
              "      gap: 12px;\n",
              "    }\n",
              "\n",
              "    .colab-df-convert {\n",
              "      background-color: #E8F0FE;\n",
              "      border: none;\n",
              "      border-radius: 50%;\n",
              "      cursor: pointer;\n",
              "      display: none;\n",
              "      fill: #1967D2;\n",
              "      height: 32px;\n",
              "      padding: 0 0 0 0;\n",
              "      width: 32px;\n",
              "    }\n",
              "\n",
              "    .colab-df-convert:hover {\n",
              "      background-color: #E2EBFA;\n",
              "      box-shadow: 0px 1px 2px rgba(60, 64, 67, 0.3), 0px 1px 3px 1px rgba(60, 64, 67, 0.15);\n",
              "      fill: #174EA6;\n",
              "    }\n",
              "\n",
              "    [theme=dark] .colab-df-convert {\n",
              "      background-color: #3B4455;\n",
              "      fill: #D2E3FC;\n",
              "    }\n",
              "\n",
              "    [theme=dark] .colab-df-convert:hover {\n",
              "      background-color: #434B5C;\n",
              "      box-shadow: 0px 1px 3px 1px rgba(0, 0, 0, 0.15);\n",
              "      filter: drop-shadow(0px 1px 2px rgba(0, 0, 0, 0.3));\n",
              "      fill: #FFFFFF;\n",
              "    }\n",
              "  </style>\n",
              "\n",
              "      <script>\n",
              "        const buttonEl =\n",
              "          document.querySelector('#df-f19cab94-48ca-4ac8-a64c-321e5ef41b12 button.colab-df-convert');\n",
              "        buttonEl.style.display =\n",
              "          google.colab.kernel.accessAllowed ? 'block' : 'none';\n",
              "\n",
              "        async function convertToInteractive(key) {\n",
              "          const element = document.querySelector('#df-f19cab94-48ca-4ac8-a64c-321e5ef41b12');\n",
              "          const dataTable =\n",
              "            await google.colab.kernel.invokeFunction('convertToInteractive',\n",
              "                                                     [key], {});\n",
              "          if (!dataTable) return;\n",
              "\n",
              "          const docLinkHtml = 'Like what you see? Visit the ' +\n",
              "            '<a target=\"_blank\" href=https://colab.research.google.com/notebooks/data_table.ipynb>data table notebook</a>'\n",
              "            + ' to learn more about interactive tables.';\n",
              "          element.innerHTML = '';\n",
              "          dataTable['output_type'] = 'display_data';\n",
              "          await google.colab.output.renderOutput(dataTable, element);\n",
              "          const docLink = document.createElement('div');\n",
              "          docLink.innerHTML = docLinkHtml;\n",
              "          element.appendChild(docLink);\n",
              "        }\n",
              "      </script>\n",
              "    </div>\n",
              "  </div>\n",
              "  "
            ],
            "text/plain": [
              "      id    site_eui\n",
              "0  75757  239.203506\n",
              "1  75758  199.770882\n",
              "2  75759  171.403348\n",
              "3  75760  267.006421\n",
              "4  75761  265.777978"
            ]
          },
          "metadata": {},
          "execution_count": 192
        }
      ]
    },
    {
      "cell_type": "markdown",
      "source": [
        "## Feature Analysis"
      ],
      "metadata": {
        "id": "ERMSFe1fNW5o"
      }
    },
    {
      "cell_type": "markdown",
      "source": [
        "\n",
        "Lastly, we analyse the important features within our final model. "
      ],
      "metadata": {
        "id": "jL3r7e5yNXDG"
      }
    },
    {
      "cell_type": "code",
      "source": [
        "# Create a dataframe which contains feature names and corresponding feature importance scores  \n",
        "zipzip = zip(bestmodel.feature_importances_, X_train.columns)\n",
        "df_feature = pd.DataFrame(data = zipzip, columns = ['importance','feature'])\n",
        "\n",
        "# Sort the dataframe by importance scores  \n",
        "df_feature.sort_values('importance', ascending = False, inplace = True)\n",
        "\n",
        "# Top 10 important features \n",
        "top10 = df_feature.head(10)\n",
        "top10"
      ],
      "metadata": {
        "colab": {
          "base_uri": "https://localhost:8080/",
          "height": 363
        },
        "id": "fBzS_-xUNvMe",
        "outputId": "8476db55-5dd0-403b-8442-2573b66f9d76"
      },
      "execution_count": null,
      "outputs": [
        {
          "output_type": "execute_result",
          "data": {
            "text/html": [
              "\n",
              "  <div id=\"df-65b892f7-b07a-467d-8e62-03c4717146bb\">\n",
              "    <div class=\"colab-df-container\">\n",
              "      <div>\n",
              "<style scoped>\n",
              "    .dataframe tbody tr th:only-of-type {\n",
              "        vertical-align: middle;\n",
              "    }\n",
              "\n",
              "    .dataframe tbody tr th {\n",
              "        vertical-align: top;\n",
              "    }\n",
              "\n",
              "    .dataframe thead th {\n",
              "        text-align: right;\n",
              "    }\n",
              "</style>\n",
              "<table border=\"1\" class=\"dataframe\">\n",
              "  <thead>\n",
              "    <tr style=\"text-align: right;\">\n",
              "      <th></th>\n",
              "      <th>importance</th>\n",
              "      <th>feature</th>\n",
              "    </tr>\n",
              "  </thead>\n",
              "  <tbody>\n",
              "    <tr>\n",
              "      <th>0</th>\n",
              "      <td>22767</td>\n",
              "      <td>floor_area</td>\n",
              "    </tr>\n",
              "    <tr>\n",
              "      <th>53</th>\n",
              "      <td>21302</td>\n",
              "      <td>energy_star_rating_imputed</td>\n",
              "    </tr>\n",
              "    <tr>\n",
              "      <th>1</th>\n",
              "      <td>20329</td>\n",
              "      <td>year_built</td>\n",
              "    </tr>\n",
              "    <tr>\n",
              "      <th>2</th>\n",
              "      <td>5507</td>\n",
              "      <td>ELEVATION</td>\n",
              "    </tr>\n",
              "    <tr>\n",
              "      <th>54</th>\n",
              "      <td>1361</td>\n",
              "      <td>x0_Residential</td>\n",
              "    </tr>\n",
              "    <tr>\n",
              "      <th>86</th>\n",
              "      <td>1126</td>\n",
              "      <td>x1_Office_Uncategorized</td>\n",
              "    </tr>\n",
              "    <tr>\n",
              "      <th>81</th>\n",
              "      <td>699</td>\n",
              "      <td>x1_Multifamily_Uncategorized</td>\n",
              "    </tr>\n",
              "    <tr>\n",
              "      <th>35</th>\n",
              "      <td>632</td>\n",
              "      <td>november_max_temp</td>\n",
              "    </tr>\n",
              "    <tr>\n",
              "      <th>56</th>\n",
              "      <td>623</td>\n",
              "      <td>x1_Commercial_Other</td>\n",
              "    </tr>\n",
              "    <tr>\n",
              "      <th>41</th>\n",
              "      <td>590</td>\n",
              "      <td>precipitation_inches</td>\n",
              "    </tr>\n",
              "  </tbody>\n",
              "</table>\n",
              "</div>\n",
              "      <button class=\"colab-df-convert\" onclick=\"convertToInteractive('df-65b892f7-b07a-467d-8e62-03c4717146bb')\"\n",
              "              title=\"Convert this dataframe to an interactive table.\"\n",
              "              style=\"display:none;\">\n",
              "        \n",
              "  <svg xmlns=\"http://www.w3.org/2000/svg\" height=\"24px\"viewBox=\"0 0 24 24\"\n",
              "       width=\"24px\">\n",
              "    <path d=\"M0 0h24v24H0V0z\" fill=\"none\"/>\n",
              "    <path d=\"M18.56 5.44l.94 2.06.94-2.06 2.06-.94-2.06-.94-.94-2.06-.94 2.06-2.06.94zm-11 1L8.5 8.5l.94-2.06 2.06-.94-2.06-.94L8.5 2.5l-.94 2.06-2.06.94zm10 10l.94 2.06.94-2.06 2.06-.94-2.06-.94-.94-2.06-.94 2.06-2.06.94z\"/><path d=\"M17.41 7.96l-1.37-1.37c-.4-.4-.92-.59-1.43-.59-.52 0-1.04.2-1.43.59L10.3 9.45l-7.72 7.72c-.78.78-.78 2.05 0 2.83L4 21.41c.39.39.9.59 1.41.59.51 0 1.02-.2 1.41-.59l7.78-7.78 2.81-2.81c.8-.78.8-2.07 0-2.86zM5.41 20L4 18.59l7.72-7.72 1.47 1.35L5.41 20z\"/>\n",
              "  </svg>\n",
              "      </button>\n",
              "      \n",
              "  <style>\n",
              "    .colab-df-container {\n",
              "      display:flex;\n",
              "      flex-wrap:wrap;\n",
              "      gap: 12px;\n",
              "    }\n",
              "\n",
              "    .colab-df-convert {\n",
              "      background-color: #E8F0FE;\n",
              "      border: none;\n",
              "      border-radius: 50%;\n",
              "      cursor: pointer;\n",
              "      display: none;\n",
              "      fill: #1967D2;\n",
              "      height: 32px;\n",
              "      padding: 0 0 0 0;\n",
              "      width: 32px;\n",
              "    }\n",
              "\n",
              "    .colab-df-convert:hover {\n",
              "      background-color: #E2EBFA;\n",
              "      box-shadow: 0px 1px 2px rgba(60, 64, 67, 0.3), 0px 1px 3px 1px rgba(60, 64, 67, 0.15);\n",
              "      fill: #174EA6;\n",
              "    }\n",
              "\n",
              "    [theme=dark] .colab-df-convert {\n",
              "      background-color: #3B4455;\n",
              "      fill: #D2E3FC;\n",
              "    }\n",
              "\n",
              "    [theme=dark] .colab-df-convert:hover {\n",
              "      background-color: #434B5C;\n",
              "      box-shadow: 0px 1px 3px 1px rgba(0, 0, 0, 0.15);\n",
              "      filter: drop-shadow(0px 1px 2px rgba(0, 0, 0, 0.3));\n",
              "      fill: #FFFFFF;\n",
              "    }\n",
              "  </style>\n",
              "\n",
              "      <script>\n",
              "        const buttonEl =\n",
              "          document.querySelector('#df-65b892f7-b07a-467d-8e62-03c4717146bb button.colab-df-convert');\n",
              "        buttonEl.style.display =\n",
              "          google.colab.kernel.accessAllowed ? 'block' : 'none';\n",
              "\n",
              "        async function convertToInteractive(key) {\n",
              "          const element = document.querySelector('#df-65b892f7-b07a-467d-8e62-03c4717146bb');\n",
              "          const dataTable =\n",
              "            await google.colab.kernel.invokeFunction('convertToInteractive',\n",
              "                                                     [key], {});\n",
              "          if (!dataTable) return;\n",
              "\n",
              "          const docLinkHtml = 'Like what you see? Visit the ' +\n",
              "            '<a target=\"_blank\" href=https://colab.research.google.com/notebooks/data_table.ipynb>data table notebook</a>'\n",
              "            + ' to learn more about interactive tables.';\n",
              "          element.innerHTML = '';\n",
              "          dataTable['output_type'] = 'display_data';\n",
              "          await google.colab.output.renderOutput(dataTable, element);\n",
              "          const docLink = document.createElement('div');\n",
              "          docLink.innerHTML = docLinkHtml;\n",
              "          element.appendChild(docLink);\n",
              "        }\n",
              "      </script>\n",
              "    </div>\n",
              "  </div>\n",
              "  "
            ],
            "text/plain": [
              "    importance                       feature\n",
              "0        22767                    floor_area\n",
              "53       21302    energy_star_rating_imputed\n",
              "1        20329                    year_built\n",
              "2         5507                     ELEVATION\n",
              "54        1361                x0_Residential\n",
              "86        1126       x1_Office_Uncategorized\n",
              "81         699  x1_Multifamily_Uncategorized\n",
              "35         632             november_max_temp\n",
              "56         623           x1_Commercial_Other\n",
              "41         590          precipitation_inches"
            ]
          },
          "metadata": {},
          "execution_count": 193
        }
      ]
    },
    {
      "cell_type": "code",
      "source": [
        "# Create a figure of top 10 feature importance \n",
        "\n",
        "feat_renamed = ['Floor Area', 'Energy Star Rating' ,'Year Built', 'Elevation',\n",
        "                  'Building class:Residential', 'Facility Type:Office',  'Facility Type:Multifamily', \n",
        "                  'November Temp (max)', 'Facility Type:Commercial', 'Precipitation']\n",
        "\n",
        "top10['Top Features'] = feat_renamed\n",
        "\n",
        "top10.plot.bar(x= 'Top Features', y = 'importance', figsize = (15,6), title = 'Top 10 Feature Importance in Our Final Model',\n",
        "                    ylabel = 'Importance', xlabel = 'Feature', legend = None)\n",
        "plt.xticks(rotation=15, rotation_mode='anchor', ha='right')\n",
        "plt.yticks([]);\n"
      ],
      "metadata": {
        "colab": {
          "base_uri": "https://localhost:8080/",
          "height": 437
        },
        "id": "lMDgr7AiOFTC",
        "outputId": "bea5eb2e-368b-4f0f-f3aa-35cb4d4df10b"
      },
      "execution_count": null,
      "outputs": [
        {
          "output_type": "display_data",
          "data": {
            "image/png": "[encoded data removed]",
            "text/plain": [
              "<Figure size 1080x432 with 1 Axes>"
            ]
          },
          "metadata": {
            "needs_background": "light"
          }
        }
      ]
    },
    {
      "cell_type": "markdown",
      "source": [
        "Insights: \n",
        "\n",
        "Floor area is the most important factor in determining energy use intensity of a building. Additionally, energy star rating and year built are the important features as well. \n",
        "\n"
      ],
      "metadata": {
        "id": "0OGLGy8RVHA-"
      }
    },
    {
      "cell_type": "markdown",
      "source": [
        "#### Grid Search Code\n",
        "Below is our grid search code. Running this grid search will take more than 4 hours.\n",
        "This search will returns the following parameters. \n",
        "Config: {'learning_rate': 0.1, 'max_depth': -1, 'n_estimators': 1000, 'num_leaves': 100, 'reg_alpha': 0.05}"
      ],
      "metadata": {
        "id": "7PklcbnEOVjY"
      }
    },
    {
      "cell_type": "code",
      "source": [
        "# Grid Search for our final model (Light GBM)\n",
        "\n",
        "# define model\n",
        "model = lightgbm.LGBMRegressor()\n",
        "\n",
        "# define model evaluation method\n",
        "cv = RepeatedKFold(n_splits=10, n_repeats=3, random_state=1)\n",
        "\n",
        "# define grid\n",
        "grid = {'num_leaves':[30, 100], \n",
        "        'max_depth':[-1, 5, 20],\n",
        "        'learning_rate':[0.01, 0.05, 0.1],\n",
        "        'n_estimators' : [100,500,1000],\n",
        "        'reg_alpha':[0,0.01,0.05]}\n",
        "\n",
        "# define search\n",
        "search = GridSearchCV(model, param_grid=grid, scoring='r2', cv=cv, n_jobs=-1, verbose=1)\n",
        "\n",
        "# perform the search\n",
        "results = search.fit(X_train, y_train)\n",
        "\n",
        "# summarize\n",
        "print('R2: %.3f' % results.best_score_)\n",
        "print('Config: %s' % results.best_params_)\n"
      ],
      "metadata": {
        "id": "CC7ZQ0IPOsRV"
      },
      "execution_count": null,
      "outputs": []
    }
  ],
  "metadata": {
    "colab": {
      "name": "Modeling.ipynb",
      "provenance": [],
      "collapsed_sections": [],
      "mount_file_id": "11WIxbq8ryEObIZ78leahatZL27eOaBUO",
      "authorship_tag": "ABX9TyPftRu0MNIQZJq6czsPnddV",
      "include_colab_link": true
    },
    "kernelspec": {
      "display_name": "Python 3",
      "name": "python3"
    },
    "language_info": {
      "name": "python"
    }
  },
  "nbformat": 4,
  "nbformat_minor": 0
}